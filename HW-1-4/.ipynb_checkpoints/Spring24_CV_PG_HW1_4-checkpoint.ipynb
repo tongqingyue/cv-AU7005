{
 "cells": [
  {
   "cell_type": "markdown",
   "metadata": {},
   "source": [
    "# Computer Vision Course (2024 Spring) Homework 1\n",
    "\n",
    "---\n",
    "\n",
    "## Problem 4. Estimation of 2D homography\n",
    "In this problem, we discuss the projective transformation between two planes. Given three sets of 2D correspondences, which are with different level of noise. Please use the DLT (Direct Linear Transformation) algorithm to estimate the 2D homography for each set of correspondences. Then calculate the reprojection error of each dataset and discuss the results. Can you come up with a method to reduce the reprojection error? Please implement your method and explain why it works. (25 points)\n",
    "\n",
    "- Environment:\n",
    "  - We suggest to use `python 3.8` with `numpy`, `opencv-python` packages to solve this problem.\n",
    "\n",
    "- Input data: \n",
    "  - Files: `data/cv_hw_1_4_correspondences0.txt`, `data/cv_hw_1_4_correspondences1.txt`, `data/cv_hw_1_4_correspondences2.txt`\n",
    "  - Format: In each row, (x1, y1, x2, y2) are the corresponding points between two planes.\n",
    "\n",
    "- Algorithm steps:\n",
    "  - Implement the basic DLT algorithm. (10 points)\n",
    "  - Calculate the reprojection error. (5 points)\n",
    "  - Implement a better method and explain it. (10 points)\n",
    "\n",
    "- Hint:\n",
    "  - Your answer will be graded based on both the performance of the algorithm (in Code blocks) and the completeness of the discussion (in Markdown blocks or the PDF report).\n",
    "  - You can use `cv2.findHomography()` function. At the same time, please explain the chosen algorithm and the parameters in your report.\n",
    "  - You are also encouraged to implement the Gold Standard algorithm without using `cv2.findHomography()`, which may earn more points.\n",
    "\n",
    "---"
   ]
  },
  {
   "cell_type": "code",
   "execution_count": null,
   "metadata": {},
   "outputs": [],
   "source": []
  },
  {
   "cell_type": "code",
   "execution_count": null,
   "metadata": {},
   "outputs": [],
   "source": [
    "# Answer here."
   ]
  }
 ],
 "metadata": {
  "kernelspec": {
   "display_name": "Python 3 (ipykernel)",
   "language": "python",
   "name": "python3"
  },
  "language_info": {
   "codemirror_mode": {
    "name": "ipython",
    "version": 3
   },
   "file_extension": ".py",
   "mimetype": "text/x-python",
   "name": "python",
   "nbconvert_exporter": "python",
   "pygments_lexer": "ipython3",
   "version": "3.9.13"
  },
  "vscode": {
   "interpreter": {
    "hash": "c6fc47664f1878ff2ee966f01ca1e9f4805d933244fdd0f9b4907ae56b059aef"
   }
  }
 },
 "nbformat": 4,
 "nbformat_minor": 2
}
