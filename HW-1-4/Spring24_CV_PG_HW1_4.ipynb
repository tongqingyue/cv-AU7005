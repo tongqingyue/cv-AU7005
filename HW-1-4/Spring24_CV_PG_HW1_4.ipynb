{
 "cells": [
  {
   "cell_type": "markdown",
   "metadata": {},
   "source": [
    "# Computer Vision Course (2024 Spring) Homework 1\n",
    "\n",
    "---\n",
    "\n",
    "## Problem 4. Estimation of 2D homography\n",
    "In this problem, we discuss the projective transformation between two planes. Given three sets of 2D correspondences, which are with different level of noise. Please use the DLT (Direct Linear Transformation) algorithm to estimate the 2D homography for each set of correspondences. Then calculate the reprojection error of each dataset and discuss the results. Can you come up with a method to reduce the reprojection error? Please implement your method and explain why it works. (25 points)\n",
    "\n",
    "- Environment:\n",
    "  - We suggest to use `python 3.8` with `numpy`, `opencv-python` packages to solve this problem.\n",
    "\n",
    "- Input data: \n",
    "  - Files: `data/cv_hw_1_4_correspondences0.txt`, `data/cv_hw_1_4_correspondences1.txt`, `data/cv_hw_1_4_correspondences2.txt`\n",
    "  - Format: In each row, (x1, y1, x2, y2) are the corresponding points between two planes.\n",
    "\n",
    "- Algorithm steps:\n",
    "  - Implement the basic DLT algorithm. (10 points)\n",
    "  - Calculate the reprojection error. (5 points)\n",
    "  - Implement a better method and explain it. (10 points)\n",
    "\n",
    "- Hint:\n",
    "  - Your answer will be graded based on both the performance of the algorithm (in Code blocks) and the completeness of the discussion (in Markdown blocks or the PDF report).\n",
    "  - You can use `cv2.findHomography()` function. At the same time, please explain the chosen algorithm and the parameters in your report.\n",
    "  - You are also encouraged to implement the Gold Standard algorithm without using `cv2.findHomography()`, which may earn more points.\n",
    "\n",
    "---"
   ]
  },
  {
   "cell_type": "markdown",
   "metadata": {},
   "source": [
    "### Step 1: implement the basic DLT algorihtm\n",
    "\n",
    "* To begin with, import some necessary codebase and read the data files."
   ]
  },
  {
   "cell_type": "code",
   "execution_count": 15,
   "metadata": {},
   "outputs": [],
   "source": [
    "import numpy as np\n",
    "import scipy.linalg as sl\n",
    "from scipy.optimize import leastsq\n",
    "import cv2\n",
    "\n",
    "# read the data files\n",
    "data0 = np.loadtxt('data/cv_hw_1_4_correspondences0.txt')\n",
    "data1 = np.loadtxt('data/cv_hw_1_4_correspondences1.txt')\n",
    "data2 = np.loadtxt('data/cv_hw_1_4_correspondences2.txt')\n",
    "datas = [data0, data1, data2]"
   ]
  },
  {
   "cell_type": "markdown",
   "metadata": {},
   "source": [
    "* To determining H given a set of four 2D to 2D point correspondences, $\\mathbf{x}_i \\leftrightarrow \\mathbf{x}'_i$. The transform is given by $\\mathbf{x}'_i = H\\mathbf{x}_i$. Note that this is an equation involving homogeneous vectors; thus the 3-vectors $\\mathbf{x}'_i$ and $H\\mathbf{x}_i$ are not equal, they have the same direction but may differ in magnitude by a non-zero scale factor. The equation may be expressed in terms of the vector cross product as $\\mathbf{x}'_i \\times H\\mathbf{x}_i = \\mathbf{0}$.\n",
    "\n",
    "* If the $j$-th row of the matrix $H$ is denoted by $h^{jT}$, writing $\\mathbf{x}'_i = (x'_i,y'_i,w'_i)$, we can transform the equation $\\mathbf{x}'_i \\times H\\mathbf{x}_i = \\mathbf{0}$ in the form:\n",
    "$$\n",
    "\\left[\n",
    "    \\begin{matrix}\n",
    "        \\mathbf{0}^T & -\\omega'_i\\mathbf{x}_i^T & y'_i\\mathbf{x}_i^T \\\\\n",
    "        \\omega'_i\\mathbf{x}_i^T & \\mathbf{0}^T & x'_i\\mathbf{x}_i^T \\\\\n",
    "        y'_i\\mathbf{x}_i^T & x'_i\\mathbf{x}_i^T & \\mathbf{0}^T\n",
    "    \\end{matrix}\n",
    "\\right]\n",
    "\\left(\n",
    "    \\begin{matrix}\n",
    "        \\mathbf{h}^1 \\\\\n",
    "        \\mathbf{h}^2 \\\\\n",
    "        \\mathbf{h}^3\n",
    "    \\end{matrix}\n",
    "\\right) = \\mathbf{0} \\tag{1}\n",
    "$$\n",
    "These equations have the form $A_i\\mathbf{h} = \\mathbf{0}$, where $A_i$ is a 3×9 matrix, and $\\mathbf{h}$ is a 9-vector made up of the entries of the matrix $H$.\n",
    "\n",
    "* Although there are three equations in (1), only two of them are linearly independent (since the third row is obtained, up to scale, from the sum of $x'_i$ timesthe ﬁrst row and $y'_i$ times the second). It is usual to omit the third equation in solving for $H$. Then the set of equations becomes\n",
    "$$\n",
    "\\left[\n",
    "    \\begin{matrix}\n",
    "        \\mathbf{0}^T & -\\omega'_i\\mathbf{x}_i^T & y'_i\\mathbf{x}_i^T \\\\\n",
    "        \\omega'_i\\mathbf{x}_i^T & \\mathbf{0}^T & x'_i\\mathbf{x}_i^T\n",
    "    \\end{matrix}\n",
    "\\right]\n",
    "\\left(\n",
    "    \\begin{matrix}\n",
    "        \\mathbf{h}^1 \\\\\n",
    "        \\mathbf{h}^2 \\\\\n",
    "        \\mathbf{h}^3\n",
    "    \\end{matrix}\n",
    "\\right) = \\mathbf{0} \\tag{2}\n",
    "$$\n",
    "\n",
    "* When we have 4 non-collinear points, matrix $A$ has rank 8, and thus has a 1-dimensional null-space which provides a solution for $\\mathbf{h}$. Such a solution $\\mathbf{h}$ can only be determined up to a non-zero scale factor. A scale may be arbitrarily chosen for $\\mathbf{h}$ by a requirement on its norm such as $\\Vert \\mathbf{h}\\Vert = 1$."
   ]
  },
  {
   "cell_type": "code",
   "execution_count": 16,
   "metadata": {},
   "outputs": [
    {
     "name": "stdout",
     "output_type": "stream",
     "text": [
      "Using the first four point correspondences to determine 2D homography.\n",
      "The 2D homography for correspondences0 is:\n",
      " [[7.62787309e-03 2.61859029e-03 4.46858412e-01]\n",
      " [1.20964572e-02 3.68300703e-02 8.93716824e-01]\n",
      " [4.46858412e-05 8.93716824e-05 4.46858412e-03]]\n",
      "The 2D homography for correspondences1 is:\n",
      " [[ 4.56857775e-03 -5.82448367e-04 -1.38426764e-01]\n",
      " [ 1.70534381e-02  3.84839715e-03 -9.90203850e-01]\n",
      " [ 5.46245650e-05  6.79514125e-06 -2.74271810e-03]]\n",
      "The 2D homography for correspondences2 is:\n",
      " [[-5.02509745e-03  3.19881489e-03  1.03962854e-01]\n",
      " [-2.00264688e-02  6.06667239e-03  9.94339046e-01]\n",
      " [-6.36336014e-05  2.25461079e-05  2.86967357e-03]]\n"
     ]
    }
   ],
   "source": [
    "print(\"Using the first four point correspondences to determine 2D homography.\")\n",
    "for i in range(3):\n",
    "    data = datas[i]\n",
    "    # create matrix A\n",
    "    A = []\n",
    "    for points in data[:4]:\n",
    "        # convert to homogeneous coordinates\n",
    "        x_i = np.append(points[:2], 1)\n",
    "        # omega is 1\n",
    "        A_i1 = np.hstack((np.zeros((3)), -1*x_i, points[3]*x_i))\n",
    "        A_i2 = np.hstack((x_i, np.zeros((3)), -1*points[2]*x_i))\n",
    "        A.append(A_i1)\n",
    "        A.append(A_i2)\n",
    "    A = np.array(A)\n",
    "\n",
    "    # solve the null space of A\n",
    "    h = sl.null_space(A)\n",
    "    # normalization and reshape\n",
    "    h = h / np.linalg.norm(h)\n",
    "    H1 = h.reshape(3,3)\n",
    "    print('The 2D homography for correspondences%d is:\\n'%i, H1)"
   ]
  },
  {
   "cell_type": "markdown",
   "metadata": {},
   "source": [
    "* If more than four point correspondences $\\mathbf{x}_i \\leftrightarrow \\mathbf{x}'_i$ are given, the solution is the (unit) eigenvector of $A^TA$ with least eigenvalue."
   ]
  },
  {
   "cell_type": "code",
   "execution_count": 17,
   "metadata": {},
   "outputs": [
    {
     "name": "stdout",
     "output_type": "stream",
     "text": [
      "Using all point correspondences to determine 2D homography.\n",
      "The 2D homography for correspondences0 is:\n",
      " [[7.62787674e-03 2.61859206e-03 4.46858481e-01]\n",
      " [1.20964649e-02 3.68300870e-02 8.93716789e-01]\n",
      " [4.46858678e-05 8.93717253e-05 4.46858461e-03]]\n",
      "The 2D homography for correspondences1 is:\n",
      " [[ 2.05378679e-03 -1.69807562e-04  3.37153940e-01]\n",
      " [ 3.95500628e-04  1.07989222e-02  9.41378016e-01]\n",
      " [ 4.06368338e-06  2.25044395e-05  3.69196454e-03]]\n",
      "The 2D homography for correspondences2 is:\n",
      " [[-1.61035432e-03 -1.79041900e-03  2.74992153e-01]\n",
      " [-7.24228934e-03 -4.87886896e-03  9.61398595e-01]\n",
      " [-2.25356725e-05 -1.71597897e-05  3.16275147e-03]]\n"
     ]
    }
   ],
   "source": [
    "print(\"Using all point correspondences to determine 2D homography.\")\n",
    "for i in range(3):\n",
    "    data = datas[i]\n",
    "    # create matrix A\n",
    "    A = []\n",
    "    for points in data:\n",
    "        # convert to homogeneous coordinates\n",
    "        x_i = np.append(points[:2], 1)\n",
    "        # omega is 1\n",
    "        A_i1 = np.hstack((np.zeros((3)), -1*x_i, points[3]*x_i))\n",
    "        A_i2 = np.hstack((x_i, np.zeros((3)), -1*points[2]*x_i))\n",
    "        A.append(A_i1)\n",
    "        A.append(A_i2)\n",
    "    A = np.array(A)\n",
    "\n",
    "    # solve the eigenvector of A^TA with least eigenvalue\n",
    "    eigenvalues, eigenvectors = np.linalg.eig(A.T@A)\n",
    "    min_index = np.argmin(eigenvalues)\n",
    "    h = eigenvectors[:, min_index]\n",
    "    # normalization and reshape\n",
    "    h = h / np.linalg.norm(h)\n",
    "    H2 = h.reshape(3,3)\n",
    "    print('The 2D homography for correspondences%d is:\\n'%i, H2)"
   ]
  },
  {
   "cell_type": "markdown",
   "metadata": {},
   "source": [
    "* The `cv2.findHomography` function is a part of the OpenCV library, used to find a perspective transformation between two planes, i.e., a homography matrix. The function prototype generally looks like this:\n",
    "\n",
    "`cv2.findHomography(srcPoints, dstPoints, method=0, ransacReprojThreshold=5.0, mask=None, maxIters=2000, confidence=0.995)\n",
    "`\n",
    "\n",
    "* Just introduce the meanings of the first three parameters:\n",
    "    * `srcPoints`: The coordinate array of points in the source image. These are the points to undergo the perspective transformation. It should be a numpy array of size Nx2, where N is the number of points.\n",
    "    * `dstPoints`: The coordinate array of points in the destination image, corresponding to the points in `srcPoints`. It should also be a numpy array of size Nx2.\n",
    "    * `method`: The method to compute the homography matrix. The default value is 0 (i.e., using all points), and common methods include:\n",
    "        * `0`: A regular method using all points (if no other parameters are specified).\n",
    "        * `cv2.RANSAC`: Robust estimation using the RANSAC algorithm. Suitable for cases with outliers.\n",
    "        * `cv2.LMEDS`: Least Median of Squares algorithm. Another robust method but not as precise as RANSAC.\n",
    "        * `cv2.RHO`: Another robust estimation method aimed to provide faster computation than RANSAC while maintaining similar robustness.\n",
    "* Return Values:\n",
    "    * `H`: The homography matrix, i.e., the perspective transformation matrix.\n",
    "    * `status`: The mask parameter mentioned above, indicating which points are inliers.\n"
   ]
  },
  {
   "cell_type": "code",
   "execution_count": 18,
   "metadata": {},
   "outputs": [
    {
     "name": "stdout",
     "output_type": "stream",
     "text": [
      "Using cv2.findHomography() to determine 2D homography.\n",
      "The 2D homography for correspondences0 is:\n",
      " [[7.62790845e-03 2.61861814e-03 4.46858786e-01]\n",
      " [1.20965142e-02 3.68302741e-02 8.93716628e-01]\n",
      " [4.46860570e-05 8.93722337e-05 4.46858803e-03]]\n",
      "The 2D homography for correspondences1 is:\n",
      " [[8.26610922e-03 2.94643336e-03 4.37899042e-01]\n",
      " [1.27836432e-02 3.92424051e-02 8.98021963e-01]\n",
      " [4.73726842e-05 9.58338127e-05 4.53582307e-03]]\n",
      "The 2D homography for correspondences2 is:\n",
      " [[ 6.23477130e-02  3.26265084e-02  9.04988536e-02]\n",
      " [ 1.06924322e-01  2.55122281e-01 -9.54086048e-01]\n",
      " [ 3.31777503e-04  6.59750184e-04  7.57031081e-03]]\n"
     ]
    }
   ],
   "source": [
    "print(\"Using cv2.findHomography() to determine 2D homography.\")\n",
    "for i in range(3):\n",
    "    data = datas[i]\n",
    "    # create matrix A\n",
    "    H3, status = cv2.findHomography(data[:,:2], data[:,2:], 0)\n",
    "    H3 = H3 / np.linalg.norm(H3)\n",
    "    print('The 2D homography for correspondences%d is:\\n'%i, H3)"
   ]
  },
  {
   "cell_type": "markdown",
   "metadata": {},
   "source": [
    "### Step 2: calculate the reprojection error\n",
    "\n",
    "* We compute the error for 2D homography $H$ using all point correspondences to determine.\n",
    "\n",
    "* Assuming the coordinates of points in the first plane are accurate (with no noise), then the reprojection error degenerates to error in one image. We compute this error in the following code block:"
   ]
  },
  {
   "cell_type": "code",
   "execution_count": 19,
   "metadata": {},
   "outputs": [
    {
     "name": "stdout",
     "output_type": "stream",
     "text": [
      "The error in one image for correspondences0 is:\n",
      " 2950.2873431525127\n",
      "The error in one image for correspondences1 is:\n",
      " 11906.52029527249\n",
      "The error in one image for correspondences2 is:\n",
      " 4504.057120426997\n"
     ]
    }
   ],
   "source": [
    "# error in one image\n",
    "for i in range(3):\n",
    "    data = datas[i]\n",
    "    # create matrix A\n",
    "    one_colunm = np.ones((len(data), 1))\n",
    "    ini_x = np.hstack((data[:,:2], one_colunm))\n",
    "    trans_x = H2@ini_x.T\n",
    "    trans_x /= trans_x[2] # divided by scale para\n",
    "    error = np.sum((trans_x.T[:,:2]- data[:,2:])**2)\n",
    "    print('The error in one image for correspondences%d is:\\n'%i, error)"
   ]
  },
  {
   "cell_type": "markdown",
   "metadata": {},
   "source": [
    "* If all corresponding points between two planes have noise, then we may compute the reprojection error by minimizing the error function $\\sum_i d(\\mathbf{x}_i, \\hat{\\mathbf{x}}_i)^2 + d(\\mathbf{x}'_i, \\hat{\\mathbf{x}}'_i)^2$ using Levenberg-Marquardt algorithm over $n$ 2D points $\\hat{\\mathbf{x}}_i$."
   ]
  },
  {
   "cell_type": "code",
   "execution_count": 20,
   "metadata": {},
   "outputs": [
    {
     "name": "stdout",
     "output_type": "stream",
     "text": [
      "The reprojection error for correspondences0 is:\n",
      " 720.0747132765634\n",
      "The reprojection error for correspondences1 is:\n",
      " 690.6220555902507\n",
      "The reprojection error for correspondences2 is:\n",
      " 2035.3641339908454\n"
     ]
    }
   ],
   "source": [
    "# using scipy.optimize.leastsq to minimize using L-M algorithm\n",
    "def residuals1(ini_x_hat, x, H):\n",
    "    '''\n",
    "    ini_x_hat: the perfectly matched corresponding point in first plane. Since the leastsq setting, it's 2N*1 matrix\n",
    "    x: corresponding points with noise. N*4 matrix\n",
    "    H: 2D homography matrix. 3*3 matrix\n",
    "    '''\n",
    "    # reshape ini_x_hat to N*2\n",
    "    ini_x_hat = ini_x_hat.reshape(len(ini_x_hat)//2, 2)\n",
    "    one_colunm = np.ones((len(ini_x_hat), 1))\n",
    "    ini_x_hat = np.hstack((ini_x_hat, one_colunm))\n",
    "    trans_x_hat = H@ini_x_hat.T\n",
    "    trans_x_hat /= trans_x_hat[2] # divided by scale para\n",
    "    trans_x_hat = trans_x_hat.T\n",
    "    x_hat = np.hstack((ini_x_hat[:,:2], trans_x_hat[:,:2]))\n",
    "    # mind that leastsq func needs residuals func return a 1D array\n",
    "    return (x - x_hat).flatten()\n",
    "\n",
    "for i in range(3):\n",
    "    data = datas[i]\n",
    "    # set the points in 1st plane as original x\n",
    "    x0 = data[:,:2]\n",
    "    result = leastsq(residuals1, x0.flatten(), args=(data, H2))\n",
    "    reprojection_error = np.sum(residuals1(result[0], data, H2)**2)\n",
    "    print('The reprojection error for correspondences%d is:\\n'%i, reprojection_error)"
   ]
  },
  {
   "cell_type": "markdown",
   "metadata": {},
   "source": [
    "### Step3: implement a better method and explain it\n",
    "\n",
    "* There will usually be one cost function which is optimal in the sense that the $H$ that minimizes it gives the best possible estimate of the transformation under certain assumptions. The computational algorithm that enables this cost function to be minimized is called the \"Gold Standard\" algorithm. The results of other algorithms are assessed by how well they compare to this Gold Standard. The algorithm is shown as the following:\n",
    "\n",
    "![Gold standard error](./Gold_standard_error.png)"
   ]
  },
  {
   "cell_type": "code",
   "execution_count": 21,
   "metadata": {},
   "outputs": [
    {
     "name": "stdout",
     "output_type": "stream",
     "text": [
      "The gold standard error for reprojection error for correspondences0 is:\n",
      " 1.5045155184375137e-26\n",
      "And the 2D homography is:\n",
      " [[-1.61035432e-03 -1.79041900e-03  2.74992153e-01]\n",
      " [-7.24228934e-03 -4.87886896e-03  9.61398595e-01]\n",
      " [-2.25356725e-05 -1.71597897e-05  3.16275147e-03]]\n",
      "The gold standard error for reprojection error for correspondences1 is:\n",
      " 4.761759542800305\n",
      "And the 2D homography is:\n",
      " [[-1.61035432e-03 -1.79041900e-03  2.74992153e-01]\n",
      " [-7.24228934e-03 -4.87886896e-03  9.61398595e-01]\n",
      " [-2.25356725e-05 -1.71597897e-05  3.16275147e-03]]\n",
      "The gold standard error for reprojection error for correspondences2 is:\n",
      " 665.7623293183253\n",
      "And the 2D homography is:\n",
      " [[-1.61035432e-03 -1.79041900e-03  2.74992153e-01]\n",
      " [-7.24228934e-03 -4.87886896e-03  9.61398595e-01]\n",
      " [-2.25356725e-05 -1.71597897e-05  3.16275147e-03]]\n"
     ]
    }
   ],
   "source": [
    "# find the Gold Standard Error\n",
    "def residuals2(ini_x_hat_and_H, x):\n",
    "    '''\n",
    "    ini_x_hat_and_H: variables, the perfectly matched corresponding point in first plane and 2D homograaphy H. (2N+9)*1 matrix\n",
    "    x: corresponding points with noise. N*4 matrix\n",
    "    '''\n",
    "    # reshape ini_x_hat to N*2\n",
    "    ini_x_hat = ini_x_hat_and_H[:-9]\n",
    "    H = ini_x_hat_and_H[-9:]\n",
    "    ini_x_hat = ini_x_hat.reshape(len(ini_x_hat)//2, 2)\n",
    "    H = H.reshape(3,3)\n",
    "    one_colunm = np.ones((len(ini_x_hat), 1))\n",
    "    ini_x_hat = np.hstack((ini_x_hat, one_colunm))\n",
    "    trans_x_hat = H@ini_x_hat.T\n",
    "    trans_x_hat /= trans_x_hat[2] # divided by scale para\n",
    "    trans_x_hat = trans_x_hat.T\n",
    "    x_hat = np.hstack((ini_x_hat[:,:2], trans_x_hat[:,:2]))\n",
    "    # mind that leastsq func needs residuals func return a 1D array\n",
    "    return (x - x_hat).flatten()\n",
    "\n",
    "for i in range(3):\n",
    "    data = datas[i]\n",
    "    # set the points in 1st plane as original x\n",
    "    x0 = data[:,:2]\n",
    "    x0_and_H = np.hstack((x0.flatten(), H2.flatten()))\n",
    "    result = leastsq(residuals2, x0_and_H, args=(data))\n",
    "    reprojection_error = np.sum(residuals2(result[0], data)**2)\n",
    "    print('The gold standard error for reprojection error for correspondences%d is:\\n'%i, reprojection_error)\n",
    "    print('And the 2D homography is:\\n', x0_and_H[-9:].reshape(3,3))"
   ]
  }
 ],
 "metadata": {
  "kernelspec": {
   "display_name": "Python 3 (ipykernel)",
   "language": "python",
   "name": "python3"
  },
  "language_info": {
   "codemirror_mode": {
    "name": "ipython",
    "version": 3
   },
   "file_extension": ".py",
   "mimetype": "text/x-python",
   "name": "python",
   "nbconvert_exporter": "python",
   "pygments_lexer": "ipython3",
   "version": "3.9.13"
  },
  "vscode": {
   "interpreter": {
    "hash": "c6fc47664f1878ff2ee966f01ca1e9f4805d933244fdd0f9b4907ae56b059aef"
   }
  }
 },
 "nbformat": 4,
 "nbformat_minor": 2
}
